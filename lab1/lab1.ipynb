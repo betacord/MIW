{
 "cells": [
  {
   "cell_type": "markdown",
   "source": [
    "# Lab 1 - podstawy języka Python\n",
    "\n",
    "## Wyświetlanie danych\n",
    "\n",
    "Do wyświetlania danych służy funkcja print()"
   ],
   "metadata": {
    "collapsed": false
   }
  },
  {
   "cell_type": "code",
   "execution_count": null,
   "outputs": [],
   "source": [
    "print('hej!')"
   ],
   "metadata": {
    "collapsed": false,
    "pycharm": {
     "name": "#%%\n"
    }
   }
  },
  {
   "cell_type": "code",
   "execution_count": null,
   "outputs": [],
   "source": [
    "print(10)"
   ],
   "metadata": {
    "collapsed": false,
    "pycharm": {
     "name": "#%%\n"
    }
   }
  },
  {
   "cell_type": "code",
   "execution_count": null,
   "outputs": [],
   "source": [
    "print(2 + 2)"
   ],
   "metadata": {
    "collapsed": false,
    "pycharm": {
     "name": "#%%\n"
    }
   }
  },
  {
   "cell_type": "markdown",
   "source": [
    "## Zmienne\n",
    "\n",
    "Zmienne tworzymy poprzez podstawienie wartości do nazwy konkretnej zmiennej"
   ],
   "metadata": {
    "collapsed": false
   }
  },
  {
   "cell_type": "code",
   "execution_count": null,
   "outputs": [],
   "source": [
    "a = 1\n",
    "b = 2 + 2\n",
    "s = 'Hello ' + 'world'"
   ],
   "metadata": {
    "collapsed": false,
    "pycharm": {
     "name": "#%%\n"
    }
   }
  },
  {
   "cell_type": "markdown",
   "source": [
    "Wartość zmiennej można wyświetlić na ekranie za pomocą funkcji print()"
   ],
   "metadata": {
    "collapsed": false
   }
  },
  {
   "cell_type": "code",
   "execution_count": null,
   "outputs": [],
   "source": [
    "print(b)"
   ],
   "metadata": {
    "collapsed": false,
    "pycharm": {
     "name": "#%%\n"
    }
   }
  },
  {
   "cell_type": "code",
   "execution_count": null,
   "outputs": [],
   "source": [
    "print(s)"
   ],
   "metadata": {
    "collapsed": false,
    "pycharm": {
     "name": "#%%\n"
    }
   }
  },
  {
   "cell_type": "markdown",
   "source": [
    "## Typy zmiennych\n",
    "\n",
    "W języku Python występują trzy najbardziej ogólne typy wartości zmiennych:\n",
    "- całkowitoliczbowa (int - integer), np. 10\n",
    "- zmiennoprzecinkowa (float), np. 1.234\n",
    "- tekstowa (str - string), np. hello world\n",
    "\n",
    "Jednak język Python jest językiem typowanym dynamicznie, więc typy danych\n",
    "w zmiennych zostaną dopasowane automatycznie przez interpreter w momencie uruchamiania kodu.\n",
    "Programista nie musi jawnie wskazywać takiego typu. Dobrze jest jednak zdawać sobie sprawę z tego co \"siedzi\" w zmiennej."
   ],
   "metadata": {
    "collapsed": false
   }
  },
  {
   "cell_type": "code",
   "execution_count": null,
   "outputs": [],
   "source": [
    "calkowitoliczbowa = 10\n",
    "\n",
    "print(calkowitoliczbowa)"
   ],
   "metadata": {
    "collapsed": false,
    "pycharm": {
     "name": "#%%\n"
    }
   }
  },
  {
   "cell_type": "code",
   "execution_count": null,
   "outputs": [],
   "source": [
    "zmiennoprzecinkowa = 1.234\n",
    "\n",
    "print(zmiennoprzecinkowa)"
   ],
   "metadata": {
    "collapsed": false,
    "pycharm": {
     "name": "#%%\n"
    }
   }
  },
  {
   "cell_type": "code",
   "execution_count": null,
   "outputs": [],
   "source": [
    "tekstowa = 'hej!'\n",
    "\n",
    "print(tekstowa)"
   ],
   "metadata": {
    "collapsed": false,
    "pycharm": {
     "name": "#%%\n"
    }
   }
  },
  {
   "cell_type": "markdown",
   "source": [
    "## Rzutowanie\n",
    "\n",
    "Czyli inaczej konwersja (zmiana) typu zmiennej. Operacja ta jest szczególnie przydatna przy wykonywaniu operacji, które\n",
    "wymagają zgodności typu między zmiennymi.\n",
    "\n",
    "Rzutowanie z typu całkowitoliczbowego na zmiennoprzecinkowy"
   ],
   "metadata": {
    "collapsed": false
   }
  },
  {
   "cell_type": "code",
   "execution_count": null,
   "outputs": [],
   "source": [
    "a = 10\n",
    "b = float(a)\n",
    "\n",
    "print(a)\n",
    "print(b)"
   ],
   "metadata": {
    "collapsed": false,
    "pycharm": {
     "name": "#%%\n"
    }
   }
  },
  {
   "cell_type": "markdown",
   "source": [
    "Rzutowanie z typu całkowitoliczbowego i zmiennoprzecinkowego na tekstowy:"
   ],
   "metadata": {
    "collapsed": false
   }
  },
  {
   "cell_type": "code",
   "execution_count": null,
   "outputs": [],
   "source": [
    "s_a = str(a)\n",
    "s_b = str(b)\n",
    "\n",
    "print(s_a)\n",
    "print(s_b)"
   ],
   "metadata": {
    "collapsed": false,
    "pycharm": {
     "name": "#%%\n"
    }
   }
  },
  {
   "cell_type": "markdown",
   "source": [
    "### Zadanie\n",
    "\n",
    "Utworzyć zmienne:\n",
    "- first_name, do której zostanie podstawione imie\n",
    "- last_name, do której zostanie podstawione nazwisko\n",
    "- balance, do której zostanie podstawiony stan konta\n",
    "- name, w której znajdzie się pełne imię i nazwisko pochodzące ze zmiennych first_name i last_name\n",
    "- message, w której znajdzie się treść komunikatu o następującej formie: \"Witaj, \\[name\\]. Twój stan konta to \\[balance\\] PLN\"\n",
    "\n",
    "Następnie należy wyswietlić na ekranie ekranie treść komunikatu zajdującego się w zmiennej message."
   ],
   "metadata": {
    "collapsed": false
   }
  },
  {
   "cell_type": "markdown",
   "source": [
    "Funkcję print() można również wykorzystać przy łączeniu różnych wartości, co może mieć na celu\n",
    "np. wyświetlenie precyzyjnej informacji o charakterze prezentowanej wartości"
   ],
   "metadata": {
    "collapsed": false
   }
  },
  {
   "cell_type": "code",
   "execution_count": null,
   "outputs": [],
   "source": [
    "print('Wartosc zmiennej b wynosi: ' + str(b))"
   ],
   "metadata": {
    "collapsed": false,
    "pycharm": {
     "name": "#%%\n"
    }
   }
  },
  {
   "cell_type": "markdown",
   "source": [
    "Język Python umożliwia również prostszą metodę wyświetlania wartości metodą interpolacji stringów.\n",
    "\n",
    "\n",
    "Można w tym celu stworzyć oddzielną zmienną, która będzie przechowywała treść komunikatu:"
   ],
   "metadata": {
    "collapsed": false
   }
  },
  {
   "cell_type": "code",
   "execution_count": null,
   "outputs": [],
   "source": [
    "val = 10\n",
    "statement = f'Wartosc zmiennej val wynosi: {val}'\n",
    "\n",
    "print(statement)"
   ],
   "metadata": {
    "collapsed": false,
    "pycharm": {
     "name": "#%%\n"
    }
   }
  },
  {
   "cell_type": "markdown",
   "source": [
    "Lub stworzyć taki zinterpolowany tekst bezpośrednio w funkcji string:"
   ],
   "metadata": {
    "collapsed": false
   }
  },
  {
   "cell_type": "code",
   "execution_count": null,
   "outputs": [],
   "source": [
    "val = 20\n",
    "\n",
    "print(f'Wartosc zmiennej val wynosi: {val}')"
   ],
   "metadata": {
    "collapsed": false,
    "pycharm": {
     "name": "#%%\n"
    }
   }
  },
  {
   "cell_type": "markdown",
   "source": [
    "### Zadanie\n",
    "\n",
    "Zmodyfikować kod z zadania poprzedniego w taki sposób, aby komunikaty wyświetlane na ekranie utworzyć\n",
    "metodą interpolacji stringów\n",
    "\n",
    "## Pobieranie wartości z klawiatury\n",
    "\n",
    "Interakcję z użytkownikiem programu można prowadzić za pomocą wyświetlania mu wartości na ekranie.\n",
    "Można to wzbogacić dając mu możliwość samodzielnego wprowadzania takich wartości. Służy do tego funkcja input()"
   ],
   "metadata": {
    "collapsed": false
   }
  },
  {
   "cell_type": "code",
   "execution_count": null,
   "outputs": [],
   "source": [
    "name = input('Podaj imie: ')\n",
    "\n",
    "print(name)"
   ],
   "metadata": {
    "collapsed": false,
    "pycharm": {
     "name": "#%%\n"
    }
   }
  },
  {
   "cell_type": "markdown",
   "source": [
    "Wszystkie wartości wprowadzone z klawiatury są automatycznie traktowane jako tekst\n",
    "(nawet jeżeli zostaną wprowadzone tylko cyfry). Aby liczby wprowadzone przez użytkownika\n",
    "za pomocą klawiatury (za pomocą funkcji input()) faktycznie stały się liczbami, należy użyć rzutowania."
   ],
   "metadata": {
    "collapsed": false
   }
  },
  {
   "cell_type": "code",
   "execution_count": null,
   "outputs": [],
   "source": [
    "base = input('Podaj podstawe: ')\n",
    "exponent = input('Podaj wykladnik: ')\n",
    "\n",
    "base_num = float(base)\n",
    "exponent_num = float(exponent)\n",
    "\n",
    "print(f'Liczba {base_num} podniesiona do potegi {exponent_num} wynosi: {base_num ** exponent_num}')"
   ],
   "metadata": {
    "collapsed": false,
    "pycharm": {
     "name": "#%%\n"
    }
   }
  },
  {
   "cell_type": "markdown",
   "source": [
    "### Zadanie\n",
    "\n",
    "Przygotować skrypt, który pobierze od użytkownika (z klawiatury) następujące informacje:\n",
    "- imie\n",
    "- rok urodzenia\n",
    "\n",
    "i wypisze na ekranie komunikat o następującej formie: \"Witaj, \\[imie\\]. Masz \\[x\\] lat.\"\n",
    "\n",
    "## Operacje na tekstach\n",
    "\n",
    "Do konkretnego znaku w tekście można się odwołać podając jego pozycję w nawiasach \\[\\] licząc od 0"
   ],
   "metadata": {
    "collapsed": false
   }
  },
  {
   "cell_type": "code",
   "execution_count": null,
   "outputs": [],
   "source": [
    "s = 'hej!'\n",
    "\n",
    "print(f'Pierwszy znak ciągu znaków {s}: {s[0]}')\n",
    "print(f'Drugi znak ciągu znaków {s}: {s[1]}')"
   ],
   "metadata": {
    "collapsed": false,
    "pycharm": {
     "name": "#%%\n"
    }
   }
  },
  {
   "cell_type": "markdown",
   "source": [
    "Do ostatniego znaku tekstu można się odwołać podając indeks -1, do przedostatniego za pomocą indeksu -2, itd."
   ],
   "metadata": {
    "collapsed": false
   }
  },
  {
   "cell_type": "code",
   "execution_count": null,
   "outputs": [],
   "source": [
    "s = 'hello world'\n",
    "\n",
    "print(f'Ostatni znak ciągu znaków {s}: {s[-1]}')\n",
    "print(f'Przedostatni znak ciągu znaków {s}: {s[-2]}')"
   ],
   "metadata": {
    "collapsed": false,
    "pycharm": {
     "name": "#%%\n"
    }
   }
  },
  {
   "cell_type": "markdown",
   "source": [
    "Długość tekstu można pobrać za pomocą funkcji len()"
   ],
   "metadata": {
    "collapsed": false
   }
  },
  {
   "cell_type": "code",
   "execution_count": null,
   "outputs": [],
   "source": [
    "s = 'hej!'\n",
    "s_len = len(s)\n",
    "\n",
    "print(f'Dlugosc ciagu znakow {s} wynosi {s_len}')"
   ],
   "metadata": {
    "collapsed": false,
    "pycharm": {
     "name": "#%%\n"
    }
   }
  },
  {
   "cell_type": "markdown",
   "source": [
    "Do określonych podciągów tekstów można odwołać się podając indeksy początku i końca tworząc przedział\n",
    "lewostronnie domknięty.\n",
    "\n",
    "Przykład: dla ciągu znaków hello world wyciągamy znaki od pozycji 2 do pozycji 5."
   ],
   "metadata": {
    "collapsed": false
   }
  },
  {
   "cell_type": "code",
   "execution_count": null,
   "outputs": [],
   "source": [
    "s = 'hello world'\n",
    "print(s[1:6])"
   ],
   "metadata": {
    "collapsed": false,
    "pycharm": {
     "name": "#%%\n"
    }
   }
  },
  {
   "cell_type": "markdown",
   "source": [
    "## Instrukcja warunkowa\n",
    "\n",
    "Pozwala na wykonanie poszczególnych instrukcji w zależności od spełnienia pewnych warunków logicznych\n",
    "\n",
    "Przykład: pobieramy od użytkownika 2 liczby całkowite i sprawdzamy która z nich jest większa"
   ],
   "metadata": {
    "collapsed": false
   }
  },
  {
   "cell_type": "code",
   "execution_count": null,
   "outputs": [],
   "source": [
    "a = int(input('Podaj pierwsza liczbe: '))\n",
    "b = int(input('Podaj druga liczbe: '))\n",
    "\n",
    "if a > b:\n",
    "    print('pierwsza liczba jest wieksza')\n",
    "else:\n",
    "    print('druga liczba jest wieksza lub rowna')"
   ],
   "metadata": {
    "collapsed": false,
    "pycharm": {
     "name": "#%%\n"
    }
   }
  },
  {
   "cell_type": "markdown",
   "source": [
    "Język Python pozwala na użycie bardziej złożonych instrukcji warunkowych, które pozwalają na wykonanie więcej niż\n",
    "dwóch akcji\n",
    "\n",
    "Przykład: pobieramy liczbę całkowitą od użytkownika i sprawdzamy czy jest:\n",
    "- mała i parzysta (mała oznacza liczbę wynoszącą co najwyżej 19)\n",
    "- duża i parzysta (duża oznacza liczbę wynoszącą co najmniej 20)\n",
    "- nieparzysta"
   ],
   "metadata": {
    "collapsed": false
   }
  },
  {
   "cell_type": "code",
   "execution_count": null,
   "outputs": [],
   "source": [
    "val = int(input('Podaj liczbe: '))\n",
    "\n",
    "if val >= 20 and val % 2 == 0:\n",
    "    print('duza liczba parzysta')\n",
    "elif val <= 19 and val % 2 == 0:\n",
    "    print('mala liczba parzysta')\n",
    "else:\n",
    "    print('liczba nieparzysta')"
   ],
   "metadata": {
    "collapsed": false,
    "pycharm": {
     "name": "#%%\n"
    }
   }
  },
  {
   "cell_type": "markdown",
   "source": [
    "### Zadanie\n",
    "\n",
    "Wczytać imię od użytkownika, a następnie sprawdzić czy należy ono do płci żeńskiej lub męskiej.\n",
    "\n",
    "## Pętla\n",
    "\n",
    "Pętla służy do powtarzania pewnej instrukcji lub grupy instrukcji.\n",
    "W języku python występują dwa rodzaje pętli: for i while.\n",
    "\n",
    "### Pętla for\n",
    "\n",
    "Przeznaczeniem pętli for jest przeglądanie kolekcji, np. list lub tekstów.\n",
    "\n",
    "Przykład: wyświetlanie dwukrotności elementów listy liczb całkowitych."
   ],
   "metadata": {
    "collapsed": false
   }
  },
  {
   "cell_type": "code",
   "execution_count": null,
   "outputs": [],
   "source": [
    "l = [1, 2, 3, 4, 5]\n",
    "\n",
    "for i in l:\n",
    "    print(f'{i} * 2 = {i * 2}')"
   ],
   "metadata": {
    "collapsed": false,
    "pycharm": {
     "name": "#%%\n"
    }
   }
  },
  {
   "cell_type": "markdown",
   "source": [
    "Pętli for można również wykorzystać do wielokrotnego powtarzania pewnych instrukcji.\n",
    "Wystarczy w tym celu dokonać iteracji po zakresie (range) czyli po zbiorze liczb w zakresie od n do m-1.\n",
    "\n",
    "Przykład: wyświetlenie liczb od 1 do 5:"
   ],
   "metadata": {
    "collapsed": false
   }
  },
  {
   "cell_type": "code",
   "execution_count": null,
   "outputs": [],
   "source": [
    "for i in range(1, 6):\n",
    "    print(i)"
   ],
   "metadata": {
    "collapsed": false,
    "pycharm": {
     "name": "#%%\n"
    }
   }
  },
  {
   "cell_type": "markdown",
   "source": [
    "### Pętla while\n",
    "\n",
    "Pętla while posiada na początku warunek, który decyduje o wejściu do środka pętli,\n",
    "czyli o powtarzaniu pewnej instrukcji, bądź zestawu instrukcji. Pętla się skończy gdy warunek\n",
    "będzie nieprawdziwy.\n",
    "\n",
    "Przykład: dla i początkowo równego 1 wyświetlamy wartość i dopóki nie przekroczy wartości 5."
   ],
   "metadata": {
    "collapsed": false
   }
  },
  {
   "cell_type": "code",
   "execution_count": null,
   "outputs": [],
   "source": [
    "i = 1\n",
    "\n",
    "while i < 6:\n",
    "    print(i)\n",
    "\n",
    "    i += 1"
   ],
   "metadata": {
    "collapsed": false,
    "pycharm": {
     "name": "#%%\n"
    }
   }
  },
  {
   "cell_type": "markdown",
   "source": [
    "## Funkcje\n",
    "\n",
    "Funkcja to wydzielona część programu przeznaczona do wielokrotnego użytku.\n",
    "Każda funkcja posiada nazwę oraz listę argumenty, które są opcjonalne.\n",
    "Funkcja może wypisywać na ekranie pewne wartości, lub zwracać je \"na zewnątrz\".\n",
    "\n",
    "Przykład: funkcja, która zwraca sześcian liczby przekazanej za pomocą argumentu."
   ],
   "metadata": {
    "collapsed": false
   }
  },
  {
   "cell_type": "code",
   "execution_count": null,
   "outputs": [],
   "source": [
    "def cube(n):\n",
    "    return n ** 3\n",
    "\n",
    "print(f'Szescian liczby 2: {cube(2)}')\n",
    "print(f'Szescian liczby 5: {cube(5)}')"
   ],
   "metadata": {
    "collapsed": false,
    "pycharm": {
     "name": "#%%\n"
    }
   }
  },
  {
   "cell_type": "markdown",
   "source": [
    "Kolejny przykład: funkcja przyjmująca argumenty a i b, która zwraca liczbę a podniesioną do potęgi liczby b."
   ],
   "metadata": {
    "collapsed": false
   }
  },
  {
   "cell_type": "code",
   "execution_count": null,
   "outputs": [],
   "source": [
    "def exponential(a, b):\n",
    "    return a ** b\n",
    "\n",
    "print(f'2 ^ 2 = {exponential(2, 2)}')\n",
    "print(f'3 ^ 10 = {exponential(3, 10)}')"
   ],
   "metadata": {
    "collapsed": false,
    "pycharm": {
     "name": "#%%\n"
    }
   }
  },
  {
   "cell_type": "markdown",
   "source": [
    "## Zadania do samodzielnego wykonania\n",
    "\n",
    "1. Przygotować program, który pobierze od użytkownika hasło (z klawiatury), a następnie sprawdzi czy jest ono\n",
    "zgodne z hasłem o dowolnej treści przechowywanym w dowolnej zmiennej. W przypadku zgodności lub niezgodności\n",
    "na ekranie powinien pojawić się stosowny komunikat\n",
    "\n",
    "2. Przygotować program, który pobiera od użytkownika tekst (z klawiatury) pisany literami o różnej wielkości,\n",
    "a następnie wyświetla go w formie wielkich i małych liter.\n",
    "Podpowiedź: s.lower() zamieni tekst w zmiennej s na małe litery, a s.upper() zamieni tekst w zmiennej s na wielkie litery.\n",
    "\n",
    "3. Przygotować program, który pobiera od użytkownika sześć liczb, a następnie wyświetla ich średnią arytmetyczną\n",
    "\n",
    "4. Dane są zmienne s typu tekstowego i n typu całkowitoliczbowego.\n",
    "Przygotować program, który wypisze n pierwszych znaków z tekstu znajdującego się w zmiennej s.\n",
    "Przykład dla s = 'abcde' i n = 4: 'abcd'\n",
    "\n",
    "5. Zmodyfikować program z zadania 4, tak aby wyświetlał n ostatnich znaków\n",
    "\n",
    "6. Dana jest lista dowolnych elementów. Przygotować program, który wypisze 'True'\n",
    "jeżeli pierwszy i ostatni element listy są takie same.\n",
    "Przykład: dla listy [1, 2, 3, 4, 8, 4, 1] pojawi się tekst 'True',\n",
    "dla listy [1, 2, 3, 4, 5] pojawi się tekst 'False'.\n",
    "\n",
    "7. Dana jest lista liczb całkowitych o nieparzystej długości. Przygotować program, który wypisze 'True'\n",
    "jeżeli wartość środkowego elementu jest parzysta.\n",
    "Przykład: dla listy [1, 3, 4, 7, 6] pojawi się tekst 'True',\n",
    "a dla listy [1, 2, 3, 4, 5] pojawi się tekst 'False'.\n",
    "\n",
    "8. Przygotować program, który oblicza i wyświetla średnią arytmetyczną listy o wartościach liczbowych.\n",
    "\n",
    "9. Przygotować program, który pobiera od użytkownika liczbę, a następnie wyświetla ją w odwrotnej kolejności.\n",
    "Przykład: dla liczby 12345 podanej przez użytkownika, na ekranie pojawi się tekst '54321'\n",
    "\n",
    "10. Dana jest dowolna lista liczb całkowitych. Przygotować program,\n",
    "który pobiera od użytkownika liczbę, a następnie sprawdza czy podana liczba znajduje się w liście, a następnie\n",
    "wyświetla stosowny komunikat.\n",
    "\n",
    "11. Przygotować program który wyświetli liczby od 1 do 10, a następnie dla każdej z tych liczb wyświetli\n",
    "wartość poprzednią i następną.\n",
    "\n",
    "12. Dany jest tekst. Wyświetlić znaki z tego tekstu, które występują na nieparzystych pozycjach.\n",
    "\n",
    "13. Przygotować program, który będzie przyjmował w pętli oceny i wagi,\n",
    "dopóki średnia ważona nie przekroczy 5.0.\n",
    "\n",
    "14. Przygotować program, który wypisuje tabliczkę mnożenia od 1 do n: 2 <= n <= 10\n",
    "\n"
   ],
   "metadata": {
    "collapsed": false
   }
  }
 ],
 "metadata": {
  "kernelspec": {
   "display_name": "Python 3",
   "language": "python",
   "name": "python3"
  },
  "language_info": {
   "codemirror_mode": {
    "name": "ipython",
    "version": 2
   },
   "file_extension": ".py",
   "mimetype": "text/x-python",
   "name": "python",
   "nbconvert_exporter": "python",
   "pygments_lexer": "ipython2",
   "version": "2.7.6"
  }
 },
 "nbformat": 4,
 "nbformat_minor": 0
}